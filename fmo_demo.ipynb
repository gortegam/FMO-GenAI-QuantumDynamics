{
 "cells": [
  {
   "cell_type": "code",
   "execution_count": 0,
   "id": "4ff282",
   "metadata": {
    "collapsed": false
   },
   "outputs": [
   ],
   "source": [
    "from src.simulate import run_dynamics\n",
    "from src.visualize import plot_populations\n",
    "\n",
    "tlist, pops = run_dynamics(tmax=1.0, steps=200)\n",
    "plot_populations(tlist, pops)\n"
   ]
  }
 ],
 "metadata": {
  "kernelspec": {
   "argv": [
    "/usr/bin/python3",
    "-m",
    "ipykernel",
    "--HistoryManager.enabled=False",
    "--matplotlib=inline",
    "-c",
    "%config InlineBackend.figure_formats = set(['retina'])\nimport matplotlib; matplotlib.rcParams['figure.figsize'] = (12, 7)",
    "-f",
    "{connection_file}"
   ],
   "display_name": "Python 3 (system-wide)",
   "env": {
   },
   "language": "python",
   "metadata": {
    "cocalc": {
     "description": "Python 3 programming language",
     "priority": 100,
     "url": "https://www.python.org/"
    }
   },
   "name": "python3",
   "resource_dir": "/ext/jupyter/kernels/python3"
  }
 },
 "nbformat": 4,
 "nbformat_minor": 4
}